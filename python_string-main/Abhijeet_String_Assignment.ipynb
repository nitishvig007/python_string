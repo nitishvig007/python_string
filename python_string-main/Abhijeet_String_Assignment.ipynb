{
 "cells": [
  {
   "cell_type": "code",
   "execution_count": 1,
   "metadata": {
    "id": "OG2JlAXx3VoJ"
   },
   "outputs": [
    {
     "name": "stdout",
     "output_type": "stream",
     "text": [
      "<class 'str'>\n",
      "4589919168\n"
     ]
    }
   ],
   "source": [
    "#Declare a string and store it in a variable. \n",
    "\n",
    "stringer = 'today is not like any other day'\n",
    "\n",
    "#Check the type and print the id of the same.\n",
    "\n",
    "print(type(stringer))\n",
    "print(id(stringer))\n"
   ]
  },
  {
   "cell_type": "code",
   "execution_count": null,
   "metadata": {
    "id": "wPxm3G8W3dqN"
   },
   "outputs": [],
   "source": [
    "#Which are valid/invalid strings\n",
    "1. 'This is Python class'\n",
    "valid\n",
    "\n",
    "2. \"This is Python class\"\n",
    "valid\n",
    "\n",
    "3. '''This is Python class'''\n",
    "valid\n",
    "\n",
    "4. \"\"\"This is Python class\"\"\"\n",
    "valid\n",
    "\n",
    "5. 'This is Python's class'\n",
    "invalid\n",
    "\n",
    "6. \"Learnbay provides \"Java\", \"Python\" classes\"\n",
    "invalid\n",
    "\n",
    "7. \"Learnbay provides 'Java', 'Python' classes\"\n",
    "valid\n",
    "\n",
    "8. \"This is Python's class\"\n",
    "valid\n",
    "\n",
    "9. \"\"\"Learnbay provides \"Java\", \"Python\" classes\"\"\"\n",
    "valid\n",
    "\n",
    "10. '''Learnbay provides \"Java\", \"Python\" classes'''\n",
    "valid   #\n",
    "\n",
    "11. '''Learnbay provides\n",
    "\"Java\", \"Python\" \n",
    "classes'''\n",
    "valid\n",
    "\n",
    "12. 'This is\n",
    "Python \n",
    "class'\n",
    "invalid\n"
   ]
  },
  {
   "cell_type": "code",
   "execution_count": 10,
   "metadata": {
    "id": "Drx8fhT23g7a"
   },
   "outputs": [
    {
     "name": "stdout",
     "output_type": "stream",
     "text": [
      "The length of my_str is 66\n",
      "id of my_str and my_str1 is same? - True\n",
      "Type of my_str is: <class 'str'>\n"
     ]
    }
   ],
   "source": [
    "#Write the code to get the output mentioned below print statement\n",
    "my_str = \"Although that way may not be obvious at first unless you're Dutch.\"\n",
    "my_str1 = \"Although that way may not be obvious at first unless you're Dutch.\"\n",
    "\n",
    "print('The length of my_str is {}'.format(len(my_str)))\n",
    "#output:- The length of my_str is 66\n",
    "\n",
    "print('id of my_str and my_str1 is same? - {}'.format(len(my_str)==len(my_str1)))\n",
    "#output:- id of my_str and my_str1 is same? - True\n",
    "\n",
    "print('Type of my_str is: {}'.format(type(my_str)))\n",
    "#output:- Type of my_str is: str"
   ]
  },
  {
   "cell_type": "code",
   "execution_count": 17,
   "metadata": {
    "id": "403e-I3A3lCO"
   },
   "outputs": [
    {
     "name": "stdout",
     "output_type": "stream",
     "text": [
      "The first character in my_str is: A\n",
      "The first character in my_str is: A\n",
      "The character at index 10 in my_str is:  \n",
      "The last character in my_str is: h\n",
      "The last character in my_str is: h\n",
      "The character in my_str is: 8\n"
     ]
    }
   ],
   "source": [
    "#Indexing\n",
    "my_str = \"Although 8 that way may not be obvious at first unless you're Dutch\"\n",
    "#Write the code to get the output,instructions are mentioned below print statement. use indexing\n",
    "\n",
    "print('The first character in my_str is:',my_str[0])\n",
    "#output:- The first character in my_str is: A\n",
    "#Note:- Use positive indexing\n",
    "\n",
    "print('The first character in my_str is:',my_str[0])\n",
    "#output:- The first character in my_str is: A\n",
    "#Note:- Use len() function.\n",
    "\n",
    "\n",
    "print('The character at index 10 in my_str is:',my_str[10])\n",
    "#output:- The character at index 10 in my_str is: ' '\n",
    "#Note:- Use positive indexing\n",
    "\n",
    "print('The last character in my_str is:',my_str[-1])\n",
    "#output:- The last character in my_str is: h\n",
    "#Note:- Use negative indexing.\n",
    "\n",
    "print('The last character in my_str is:',my_str[len(my_str)-1])\n",
    "#output:- The last character in my_str is: h\n",
    "#Note:- Use len() function.\n",
    "\n",
    "print('The character in my_str is:',my_str[my_str.find('8')])\n",
    "#output:- The character in my_str is: 8\n",
    "#Note:- Use positive index"
   ]
  },
  {
   "cell_type": "code",
   "execution_count": 39,
   "metadata": {
    "id": "NK_QdtsM3luu"
   },
   "outputs": [
    {
     "name": "stdout",
     "output_type": "stream",
     "text": [
      "Although that way may not be obvious at first unless you're Dutch.\n",
      "Although that way may not be obvious at first unless you're Dutch.\n",
      "Atog htwymyntb biu tfrtuls o'eDth\n",
      "lhuhta a a\n",
      "ton yam yaw taht hguohtl\n",
      "Atog htwymyntb biu tfrtuls o'eDth\n",
      "Ahgttam tebo  r lsorDc\n",
      ".hctuD er'uoy sselnu tsrif ta suoivbo eb ton yam yaw taht hguohtlA\n",
      ".hctuD er'uoy sselnu tsrif ta suoivbo eb ton yam yaw taht hguohtlA\n",
      ".cu ruysen si asovoe o a a athuhl\n",
      ".cu ruysen si asovoe o a a athuhl\n",
      "\n",
      "yaw ta\n",
      "ess you\n"
     ]
    }
   ],
   "source": [
    "\n",
    "#Slicing\n",
    "my_str = \"Although that way may not be obvious at first unless you're Dutch.\"\n",
    "#Write the code to get the output,instructions are mentioned below print statement. use slicing\n",
    "print(my_str[:])\n",
    "#output:- You have sliced: Although that way may not be obvious at first unless you're Dutch. Without begin, end and step\n",
    "\n",
    "\n",
    "print(my_str[0:len(my_str)])\n",
    "#output:- You have sliced: Although that way may not be obvious at first unless you're Dutch. with begin as 0 end using len and without step\n",
    "\n",
    "\n",
    "print(my_str[::2])\n",
    "#output:- You have sliced: Although that way may not be obvious at first unless you're Dutch. without begin and end but using step\n",
    "\n",
    "\n",
    "print(my_str[1:20:2])\n",
    "#output:- You have sliced: Although that way may not be obvious at first unless you're Dutch.\n",
    "# With begin, end and step\n",
    "\n",
    "\n",
    "print(my_str[24:0:-1])\n",
    "#output:- You have sliced:   with using begin and end using postive values and step as negative values.\n",
    "#Slicing command should print empty string.\n",
    "\n",
    "\n",
    "print(my_str[::2])\n",
    "#output:- You have sliced: Atog htwymyntb biu tfrtuls o'eDth\n",
    "\n",
    "\n",
    "print(my_str[::3])\n",
    "#output:- You have sliced: Ahgttam tebo  r lsorDc\n",
    "\n",
    "\n",
    "print(my_str[::-1])\n",
    "#output:- You have sliced: .hctuD er'uoy sselnu tsrif ta suoivbo eb ton yam yaw taht hguohtlA. Use only step\n",
    "\n",
    "\n",
    "print(my_str[-1::-1])\n",
    "#output:- You have sliced: .hctuD er'uoy sselnu tsrif ta suoivbo eb ton yam yaw taht hguohtlA. Use begin end and step.\n",
    "\n",
    "\n",
    "print(my_str[::-2])\n",
    "#output:- You have sliced: .cu ruysen si asovoe o a a athuhl. use only step\n",
    "\n",
    "\n",
    "print(my_str[-1::-2])\n",
    "#output:- You have sliced: .cu ruysen si asovoe o a a athuhl. use begin, end and step.\n",
    "\n",
    "\n",
    "print(my_str[10:17:-1])\n",
    "#What will be the output?\n",
    "# IT WILL PRINT AN EMPTY STRING\n",
    "\n",
    "\n",
    "print(my_str[16:10:-1])\n",
    "#output:- You have sliced: yaw ta, Using begin, end and step.\n",
    "\n",
    "print(my_str[-17:-10:])\n",
    "#output:- You have sliced: ess you. Using begin, end and step.\n"
   ]
  },
  {
   "cell_type": "code",
   "execution_count": 45,
   "metadata": {
    "id": "qUSYa5x-3n5j"
   },
   "outputs": [
    {
     "name": "stdout",
     "output_type": "stream",
     "text": [
      "Learnbay Python\n"
     ]
    },
    {
     "ename": "TypeError",
     "evalue": "can only concatenate str (not \"int\") to str",
     "output_type": "error",
     "traceback": [
      "\u001b[0;31m---------------------------------------------------------------------------\u001b[0m",
      "\u001b[0;31mTypeError\u001b[0m                                 Traceback (most recent call last)",
      "\u001b[0;32m<ipython-input-45-8fe01abb03d0>\u001b[0m in \u001b[0;36m<module>\u001b[0;34m\u001b[0m\n\u001b[1;32m      7\u001b[0m \u001b[0mprint\u001b[0m\u001b[0;34m(\u001b[0m\u001b[0mstr1\u001b[0m\u001b[0;34m+\u001b[0m\u001b[0;34m' '\u001b[0m \u001b[0;34m+\u001b[0m\u001b[0mstr2\u001b[0m\u001b[0;34m)\u001b[0m\u001b[0;34m\u001b[0m\u001b[0;34m\u001b[0m\u001b[0m\n\u001b[1;32m      8\u001b[0m \u001b[0;34m\u001b[0m\u001b[0m\n\u001b[0;32m----> 9\u001b[0;31m \u001b[0mprint\u001b[0m\u001b[0;34m(\u001b[0m\u001b[0mstr1\u001b[0m \u001b[0;34m+\u001b[0m \u001b[0;36m4\u001b[0m\u001b[0;34m)\u001b[0m\u001b[0;34m\u001b[0m\u001b[0;34m\u001b[0m\u001b[0m\n\u001b[0m\u001b[1;32m     10\u001b[0m \u001b[0;31m#Error: TypeError: can only concatenate str (not \"int\") to str\u001b[0m\u001b[0;34m\u001b[0m\u001b[0;34m\u001b[0m\u001b[0;34m\u001b[0m\u001b[0m\n\u001b[1;32m     11\u001b[0m \u001b[0;34m\u001b[0m\u001b[0m\n",
      "\u001b[0;31mTypeError\u001b[0m: can only concatenate str (not \"int\") to str"
     ]
    }
   ],
   "source": [
    "#Basic operation on string\n",
    "str1 = 'Learnbay'\n",
    "str2 = 'Python'\n",
    "\n",
    "#Write the code to get the output,instructions are mentioned below.\n",
    "#Output is: Learnbay Python\n",
    "print(str1+' ' +str2)\n",
    "\n",
    "print(str1 + 4)\n",
    "#Error: TypeError: can only concatenate str (not \"int\") to str\n",
    "\n",
    "print(str1 + 4.0)\n",
    "#Error: TypeError: can only concatenate str (not \"float\") to str\n",
    "\n",
    "\n",
    "\n",
    "#Find below Output\n",
    "#Output is: LearnbayLearnbayLearnbay\n",
    "\n",
    "print(str1 * 3)\n",
    "#Error: TypeError: can't multiply sequence by non-int of type 'float'\n"
   ]
  },
  {
   "cell_type": "code",
   "execution_count": 50,
   "metadata": {
    "id": "gREffmnr3s-p"
   },
   "outputs": [
    {
     "name": "stdout",
     "output_type": "stream",
     "text": [
      "True\n",
      "False\n",
      "True\n",
      "True\n",
      "True\n",
      "False\n"
     ]
    }
   ],
   "source": [
    "#Find below Output\n",
    "str1 = 'Python'\n",
    "str2 = 'Python'\n",
    "str3 = 'Python$'\n",
    "str4 = 'Python$'\n",
    "\n",
    "#print True by using identity operator between str1 and str2\n",
    "print(id(str1)==id(str2))\n",
    "\n",
    "#print False by using identity operator between str1 and str3\n",
    "print(id(str1)==id(str3))\n",
    "\n",
    "#print False by using identity operator between str4 and str3\n",
    "print(id(str3)!=id(str4))\n",
    "\n",
    "#Check if P is available in str1 and print True by using membership operator\n",
    "print(('P' in str1))\n",
    "\n",
    "#Check if $ is available in str3 and print True by using membership operator\n",
    "print(('$' in str3))\n",
    "\n",
    "#Check if N is available in str3 and print False by using membership operator\n",
    "print(('N' in str3))"
   ]
  },
  {
   "cell_type": "code",
   "execution_count": 54,
   "metadata": {
    "id": "QNFjxDr73u2H"
   },
   "outputs": [
    {
     "ename": "TypeError",
     "evalue": "'str' object does not support item assignment",
     "output_type": "error",
     "traceback": [
      "\u001b[0;31m---------------------------------------------------------------------------\u001b[0m",
      "\u001b[0;31mTypeError\u001b[0m                                 Traceback (most recent call last)",
      "\u001b[0;32m<ipython-input-54-65c46d45ab4e>\u001b[0m in \u001b[0;36m<module>\u001b[0;34m\u001b[0m\n\u001b[1;32m      4\u001b[0m \u001b[0;31m#TypeError: 'str' object does not support item assignment.\u001b[0m\u001b[0;34m\u001b[0m\u001b[0;34m\u001b[0m\u001b[0;34m\u001b[0m\u001b[0m\n\u001b[1;32m      5\u001b[0m \u001b[0;34m\u001b[0m\u001b[0m\n\u001b[0;32m----> 6\u001b[0;31m \u001b[0mstr1\u001b[0m\u001b[0;34m[\u001b[0m\u001b[0;36m8\u001b[0m\u001b[0;34m:\u001b[0m\u001b[0;36m14\u001b[0m\u001b[0;34m]\u001b[0m \u001b[0;34m=\u001b[0m \u001b[0;34m'Java'\u001b[0m\u001b[0;34m\u001b[0m\u001b[0;34m\u001b[0m\u001b[0m\n\u001b[0m",
      "\u001b[0;31mTypeError\u001b[0m: 'str' object does not support item assignment"
     ]
    }
   ],
   "source": [
    "#Complete the below code\n",
    "str1 = 'This is Python class'\n",
    "#write the code to replace 'Python' with 'Java' and you should get below error.\n",
    "#TypeError: 'str' object does not support item assignment.\n",
    "\n",
    "str1[8:14] = 'Java'\n"
   ]
  },
  {
   "cell_type": "code",
   "execution_count": 63,
   "metadata": {
    "id": "-JgFbPmn3w3D"
   },
   "outputs": [
    {
     "name": "stdout",
     "output_type": "stream",
     "text": [
      "False\n",
      "True\n",
      "False\n",
      "False\n"
     ]
    }
   ],
   "source": [
    "str1 = 'A'\n",
    "str2 = 'A'\n",
    "#Compare str1 and str2 and print True using comparison operator\n",
    "print(str1 < str2)\n",
    "\n",
    "#Compare str1 and str2 and print True using equality operator\n",
    "print(str1 == str2)\n",
    "\n",
    "#Compare str1 and str2 and print False using equality operator\n",
    "print(not(str1 == str2))\n",
    "\n",
    "#Compare str1 and str2 and print False using comparison operator\n",
    "print(str1 < str2)\n"
   ]
  },
  {
   "cell_type": "code",
   "execution_count": 69,
   "metadata": {
    "id": "fJ46_L-53yhW"
   },
   "outputs": [
    {
     "name": "stdout",
     "output_type": "stream",
     "text": [
      "True\n",
      "True\n",
      "False\n",
      "False\n"
     ]
    }
   ],
   "source": [
    "str1 = 'A'\n",
    "str2 = 'a'\n",
    "#Compare str1 and str2 and print True using comparison operator\n",
    "print(str1 <str2)\n",
    "\n",
    "#Compare str1 and str2 and print True using equality operator\n",
    "print(str1.lower() == str2)\n",
    "\n",
    "#Compare str1 and str2 and print False using equality operator\n",
    "print(str1== str2)\n",
    "\n",
    "\n",
    "#Compare str1 and str2 and print False using comparison operator\n",
    "print(str1 > str2)\n"
   ]
  },
  {
   "cell_type": "code",
   "execution_count": null,
   "metadata": {
    "id": "e-Lr9va330gi"
   },
   "outputs": [],
   "source": [
    "str1 = 'A'\n",
    "str2 = '65'\n",
    "#Compare str1 and str2 using comparison operator and it should give below error.\n",
    "#Error: TypeError: '>=' not supported between instances of 'str' and 'int'\n",
    "\n",
    "#Compare str1 and str2 and print True using equality operator\n",
    "\n",
    "\n",
    "#Compare str1 and str2 and print False using equality operator\n",
    "\n"
   ]
  },
  {
   "cell_type": "code",
   "execution_count": 77,
   "metadata": {
    "id": "JO04jmpN32Im"
   },
   "outputs": [
    {
     "name": "stdout",
     "output_type": "stream",
     "text": [
      "True\n",
      "True\n",
      "False\n",
      "False\n"
     ]
    }
   ],
   "source": [
    "str1 = 'Python'\n",
    "str2 = 'Python'\n",
    "#Compare str1 and str2 and print True using comparison operator\n",
    "print(str1==str2)\n",
    "\n",
    "#Compare str1 and str2 and print True using equality operator\n",
    "print(not (str1 > str2))\n",
    "\n",
    "\n",
    "#Compare str1 and str2 and print False using equality operator\n",
    "print(not(str1 == str2))\n",
    "\n",
    "\n",
    "#Compare str1 and str2 and print False using comparison operator\n",
    "print(str1 > str2)\n",
    "\n"
   ]
  },
  {
   "cell_type": "code",
   "execution_count": null,
   "metadata": {
    "id": "nmVAYYC_35ip"
   },
   "outputs": [],
   "source": [
    "str1 = 'Python'\n",
    "str2 = 'python'\n",
    "#Compare str1 and str2 and print True using comparison operator\n",
    "\n",
    "\n",
    "#Compare str1 and str2 and print True using equality operator\n",
    "\n",
    "\n",
    "#Compare str1 and str2 and print False using equality operator\n",
    "\n",
    "\n",
    "#Compare str1 and str2 and print False using comparison operator\n",
    "\n"
   ]
  },
  {
   "cell_type": "code",
   "execution_count": 90,
   "metadata": {
    "id": "7ulv5ith37OJ"
   },
   "outputs": [
    {
     "name": "stdout",
     "output_type": "stream",
     "text": [
      "1 \n",
      "2 Python\n",
      "3 Python\n",
      "4 False\n",
      "5 Python\n"
     ]
    }
   ],
   "source": [
    "a = 'Python'\n",
    "b = ''\n",
    "\n",
    "#Apply logical opereators (and, or & not) on above string values and observe the output.\n",
    "print(1,a and b)\n",
    "print(2,a or b)\n",
    "print(3,a and a)\n",
    "print(4,not a)\n",
    "print(5,a or a)"
   ]
  },
  {
   "cell_type": "code",
   "execution_count": 93,
   "metadata": {
    "id": "Yg_gsZBL383n"
   },
   "outputs": [
    {
     "name": "stdout",
     "output_type": "stream",
     "text": [
      "1 \n",
      "2 \n",
      "3 True\n"
     ]
    }
   ],
   "source": [
    "a = ''\n",
    "b = ''\n",
    "\n",
    "#Apply logical opereators (and, or & not) on above string values and observe the output.\n",
    "print(1,a and b)\n",
    "print(2, a or b)\n",
    "print(3, not a)"
   ]
  },
  {
   "cell_type": "code",
   "execution_count": 94,
   "metadata": {
    "id": "cIWkP9Hf3-q5"
   },
   "outputs": [
    {
     "name": "stdout",
     "output_type": "stream",
     "text": [
      "1 learnbay\n",
      "2 Python\n",
      "3 False\n"
     ]
    }
   ],
   "source": [
    "a = 'Python'\n",
    "b = 'learnbay'\n",
    "\n",
    "#Apply logical opereators (and, or & not) on above string values and observe the output.\n",
    "print( 1,a and b)\n",
    "print(2, a or b)\n",
    "print(3, not a)"
   ]
  },
  {
   "cell_type": "code",
   "execution_count": null,
   "metadata": {
    "id": "Y0Ot_E704AX5"
   },
   "outputs": [],
   "source": [
    "my_str = \"Although 8 that way may not be obvious at first unless you're Dutch\"\n",
    "\n",
    "#Write the code to get the total count of 't' in above string. Use find() and index() method.\n",
    "count = 0\n",
    "indexer = 0\n",
    "while (my_str[indexer:len(my_str)].find('t')) != -1:\n",
    "    indexer = my_str[indexer:len(my_str)].find('t') + 1 + indexer\n",
    "    count += 1\n",
    "print('the number of \\'t\\'s are :',count)\n",
    "\n",
    "#Write the code to get the index of '8' in my_str. Use find() and index() method.\n",
    "print('the index of \\'8\\' is',my_str.find('8'))\n",
    "print('the index of \\'8\\' is',my_str.index('8'))\n",
    "\n",
    "#What will be the output of below code?\n",
    "print(my_str.find('the'))"
   ]
  },
  {
   "cell_type": "code",
   "execution_count": 143,
   "metadata": {
    "id": "Y0Ot_E704AX5"
   },
   "outputs": [
    {
     "ename": "ValueError",
     "evalue": "substring not found",
     "output_type": "error",
     "traceback": [
      "\u001b[0;31m---------------------------------------------------------------------------\u001b[0m",
      "\u001b[0;31mValueError\u001b[0m                                Traceback (most recent call last)",
      "\u001b[0;32m<ipython-input-143-6a673b8899fb>\u001b[0m in \u001b[0;36m<module>\u001b[0;34m\u001b[0m\n\u001b[0;32m----> 1\u001b[0;31m \u001b[0mprint\u001b[0m\u001b[0;34m(\u001b[0m\u001b[0mmy_str\u001b[0m\u001b[0;34m.\u001b[0m\u001b[0mindex\u001b[0m\u001b[0;34m(\u001b[0m\u001b[0;34m'the'\u001b[0m\u001b[0;34m)\u001b[0m\u001b[0;34m)\u001b[0m\u001b[0;34m\u001b[0m\u001b[0;34m\u001b[0m\u001b[0m\n\u001b[0m\u001b[1;32m      2\u001b[0m \u001b[0;31m# IT RAISES VALUE ERROR\u001b[0m\u001b[0;34m\u001b[0m\u001b[0;34m\u001b[0m\u001b[0;34m\u001b[0m\u001b[0m\n",
      "\u001b[0;31mValueError\u001b[0m: substring not found"
     ]
    }
   ],
   "source": [
    "print(my_str.index('the'))\n",
    "# IT RAISES VALUE ERROR"
   ]
  },
  {
   "cell_type": "code",
   "execution_count": 149,
   "metadata": {
    "id": "Y0Ot_E704AX5"
   },
   "outputs": [
    {
     "name": "stdout",
     "output_type": "stream",
     "text": [
      "11\n",
      "63\n",
      "63\n"
     ]
    }
   ],
   "source": [
    "print(my_str.find('t', 9, 15))\n",
    "\n",
    "\n",
    "print(my_str.rfind('u'))\n",
    "\n",
    "\n",
    "print(my_str.rindex('u'))"
   ]
  },
  {
   "cell_type": "code",
   "execution_count": 151,
   "metadata": {
    "id": "Gommq59Q4CMi"
   },
   "outputs": [
    {
     "name": "stdout",
     "output_type": "stream",
     "text": [
      "Python\n",
      "Python\n",
      "Python\n"
     ]
    }
   ],
   "source": [
    "#W A P which applies strip() method if any string, which will be taken from user, starts and ends with space, or applies \n",
    "#rrstrip() method if that string only ends with space or applies lstrip() method if that string only starts with a space.\n",
    "\n",
    "#  For example:-\n",
    "Input = '    Python   '\n",
    "print(Input.strip())\n",
    "#output:- 'Python'\n",
    "\n",
    "Input2 = '    Python'\n",
    "print(Input2.strip())\n",
    "#output:- 'Python'\n",
    "\n",
    "Input3 = 'Python   '\n",
    "print(Input3.strip())\n",
    "#output:- 'Python'"
   ]
  },
  {
   "cell_type": "code",
   "execution_count": 156,
   "metadata": {
    "id": "9IUy-cpS4Dtt"
   },
   "outputs": [
    {
     "name": "stdout",
     "output_type": "stream",
     "text": [
      "ALTHOUGH 8 THAT WAY MAY NOT BE OBVIOUS AT FIRST UNLESS YOU'RE DUTCH\n",
      "although 8 that way may not be obvious at first unless you're dutch\n",
      "aLTHOUGH 8 THAT WAY MAY NOT BE OBVIOUS AT FIRST UNLESS YOU'RE dUTCH\n"
     ]
    }
   ],
   "source": [
    "my_str = \"Although 8 that way may not be obvious at first unless you're Dutch\"\n",
    "\n",
    "#Write the code to convert all alphabets in my_str into upper case.\n",
    "print(my_str.upper())\n",
    "\n",
    "#Write the code to convert all alphabets in my_str into lower case.\n",
    "print(my_str.lower())\n",
    "\n",
    "#Write the code to swap the cases of all alphabets in my_str.(lower to upper and upper to lower)\n",
    "print(my_str.swapcase())\n",
    "\n"
   ]
  },
  {
   "cell_type": "code",
   "execution_count": null,
   "metadata": {
    "id": "-BjS-z674HKW"
   },
   "outputs": [],
   "source": [
    "#Write the code which takes one string from user and if it \n",
    "#starts with small case letter then convert it to corresponding \n",
    "#capital letter otherwise if starts with capital letters then convert \n",
    "#first character of every word in that string into capital.\n",
    "\n"
   ]
  },
  {
   "cell_type": "code",
   "execution_count": null,
   "metadata": {
    "id": "-MCuDy5J4JQS"
   },
   "outputs": [],
   "source": [
    "#Take a string from user and check if it is:-\n",
    "#     1. alphanumeric\n",
    "#     2. alphabets\n",
    "#     3. digit\n",
    "#     4. all letters are in lower case\n",
    "#     5. all letters are in upper case\n",
    "#     6. in title case\n",
    "#     7. a space character\n",
    "#     8. numeric\n",
    "#     9. all number elements in string are decimal\n",
    "\n"
   ]
  },
  {
   "cell_type": "code",
   "execution_count": null,
   "metadata": {
    "id": "tiTN-4ik4KAG"
   },
   "outputs": [],
   "source": [
    "#W A P which takes a string as an input and prints True if the string is valid identifier else returns False.\n",
    "#Sample Input:- 'abc', 'abc1', 'ab1c', '1abc', 'abc$', '_abc', 'if'\n",
    "\n"
   ]
  },
  {
   "cell_type": "code",
   "execution_count": null,
   "metadata": {
    "id": "tAMkSIN84MPe"
   },
   "outputs": [],
   "source": [
    "#What will be output of below code?\n",
    "s = chr(65) + chr(97)\n",
    "print(s.isprintable())\n",
    "\n",
    "s = chr(27) + chr(97)\n",
    "print(s.isprintable())\n",
    "\n",
    "s = '\\n'\n",
    "print(s.isprintable())\n",
    "\n",
    "s = ''\n",
    "print(s.isprintable())"
   ]
  },
  {
   "cell_type": "code",
   "execution_count": null,
   "metadata": {
    "id": "pU9Os0mD4Pk1"
   },
   "outputs": [],
   "source": [
    "#What will be output of below code?\n",
    "my_string = '  '\n",
    "print(my_string.isascii())\n",
    "\n",
    "my_string = 'Studytonight'\n",
    "print(my_string.isascii())\n",
    "\n",
    "my_string = 'Study tonight'\n",
    "print(my_string.isascii())\n",
    "\n",
    "my_string = 'Studytonight@123'\n",
    "print(my_string.isascii())\n",
    "\n",
    "my_string = '°'\n",
    "print(my_string.isascii())\n",
    "\n",
    "my_string = 'ö'\n",
    "print(my_string.isascii())"
   ]
  },
  {
   "cell_type": "code",
   "execution_count": null,
   "metadata": {
    "id": "VsLV8FF74QTB"
   },
   "outputs": [],
   "source": [
    "#What will be the output of below code?\n",
    "firstString = \"der Fluß\"\n",
    "secondString = \"der Fluss\"\n",
    "\n",
    "if firstString.casefold() == secondString.casefold():\n",
    "    print('The strings are equal.')\n",
    "else:\n",
    "    print('The strings are not equal.')"
   ]
  },
  {
   "cell_type": "code",
   "execution_count": null,
   "metadata": {
    "id": "1m0U7jLa4Wjf"
   },
   "outputs": [],
   "source": [
    "#Write the code to get below output\n",
    "#O/P 1:- python** (using ljust method)\n",
    "\n",
    "\n",
    "#Write the code to get below output\n",
    "#O/P 1:- **python (using rjust method)\n",
    "\n",
    "\n",
    "#Write the code to get below output\n",
    "#O/P 1:- **python** (using rjust method)"
   ]
  },
  {
   "cell_type": "code",
   "execution_count": null,
   "metadata": {
    "id": "cRVkvW6s4YKK"
   },
   "outputs": [],
   "source": [
    "#Write a Python program to find the length of the my_str:-\n",
    "\n",
    "#Input:- 'Write a Python program to find the length of the my_str'\n",
    "#Output:- 55\n"
   ]
  },
  {
   "cell_type": "code",
   "execution_count": null,
   "metadata": {
    "id": "SjABWI284Zuz"
   },
   "outputs": [],
   "source": [
    "#Write a Python program to find the total number of times letter 'p' is appeared in the below string:-\n",
    "    \n",
    "#Input:- 'peter piper picked a peck of pickled peppers.'\n",
    "#Output:- 9\n",
    "\n"
   ]
  },
  {
   "cell_type": "code",
   "execution_count": null,
   "metadata": {
    "id": "-iZtqbEo4bQp"
   },
   "outputs": [],
   "source": [
    "#Write a Python Program, to print all the indexes of all occurences of letter 'p' appeared in the string:-\n",
    "    \n",
    "#Input:- 'peter piper picked a peck of pickled peppers.'\n",
    "#Output:- \n",
    "# 0\n",
    "# 6\n",
    "# 8\n",
    "# 12\n",
    "# 21\n",
    "# 29\n",
    "# 37\n",
    "# 39\n",
    "# 40\n"
   ]
  },
  {
   "cell_type": "code",
   "execution_count": null,
   "metadata": {
    "id": "_A8Eu8f84daM"
   },
   "outputs": [],
   "source": [
    "#Write a python program to find below output:-\n",
    "\n",
    "#Input:- 'peter piper picked a peck of pickled peppers.'\n",
    "#Output:- ['peter', 'piper', 'picked', 'a', 'peck', 'of', 'pickled', 'peppers.']\n",
    "\n"
   ]
  },
  {
   "cell_type": "code",
   "execution_count": null,
   "metadata": {
    "id": "juh7tQuL4fNc"
   },
   "outputs": [],
   "source": [
    "#Write a python program to find below output:-\n",
    "\n",
    "#Input:- 'peter piper picked a peck of pickled peppers.'\n",
    "#Output:- 'peppers. pickled of peck a picked piper peter'\n",
    "\n"
   ]
  },
  {
   "cell_type": "code",
   "execution_count": null,
   "metadata": {
    "id": "aaHQYz194fW7"
   },
   "outputs": [],
   "source": [
    "#Write a python program to find below output:-\n",
    "\n",
    "#Input:- 'peter piper picked a peck of pickled peppers.'\n",
    "#Output:- '.sreppep delkcip fo kcep a dekcip repip retep'\n",
    "\n"
   ]
  },
  {
   "cell_type": "code",
   "execution_count": null,
   "metadata": {
    "id": "LSgj9glC4feI"
   },
   "outputs": [],
   "source": [
    "#Write a python program to find below output:-\n",
    "\n",
    "#Input:- 'peter piper picked a peck of pickled peppers.'\n",
    "#Output:- 'retep repip dekcip a kcep fo delkcip .sreppep'"
   ]
  },
  {
   "cell_type": "code",
   "execution_count": null,
   "metadata": {
    "id": "WUxPAkY94foo"
   },
   "outputs": [],
   "source": [
    "#Write a python program to find below output:-\n",
    "\n",
    "#Input:- 'peter piper picked a peck of pickled peppers.'\n",
    "#Output:- 'Peter Piper Picked A Peck Of Pickled Peppers.'\n",
    "\n"
   ]
  },
  {
   "cell_type": "code",
   "execution_count": null,
   "metadata": {
    "id": "IT1NSPxA4mww"
   },
   "outputs": [],
   "source": [
    "#Write a python program to find below output:-\n",
    "\n",
    "#Input:- 'Peter Piper Picked A Peck Of Pickled Peppers.'\n",
    "#Output:- 'Peter piper picked a peck of pickled peppers.'\n",
    "\n"
   ]
  },
  {
   "cell_type": "code",
   "execution_count": null,
   "metadata": {
    "id": "3Gg65vSc4m3C"
   },
   "outputs": [],
   "source": [
    "#Write a python program to implement index method. If sub_str is found in my_str then it will print the index\n",
    "# of first occurrence of first character of matching string in my_str:-\n",
    "\n",
    "#Input:- my_str = 'Peter Piper Picked A Peck Of Pickled Peppers.', sub_str = 'Pickl'\n",
    "#Output:- 29\n",
    "\n"
   ]
  },
  {
   "cell_type": "code",
   "execution_count": null,
   "metadata": {
    "id": "iFRhp_JI4m6k"
   },
   "outputs": [],
   "source": [
    "#Write a python program to implement replace method. If sub_str is found in my_str then it will replace the first \n",
    "#occurrence of sub_str with new_str else it will will print sub_str not found:-\n",
    "\n",
    "#Input:- my_str = 'Peter Piper Picked A Peck Of Pickled Peppers.', sub_str = 'Peck', new_str = 'Pack'\n",
    "#Output:- 'Peter Piper Picked A Pack Of Pickled Peppers.'\n",
    "\n"
   ]
  },
  {
   "cell_type": "code",
   "execution_count": null,
   "metadata": {
    "id": "dQ9YhBBc4m9V"
   },
   "outputs": [],
   "source": [
    "#Write a python program to find below output (implements rjust and ljust):-\n",
    "\n",
    "#Input:- 'Peter Piper Picked A Peck Of Pickled Peppers.', sub_str = 'Peck', \n",
    "#Output:- '*********************Peck********************'\n",
    "\n",
    "\n"
   ]
  }
 ],
 "metadata": {
  "colab": {
   "collapsed_sections": [],
   "name": "String_Assignment.ipynb",
   "provenance": []
  },
  "kernelspec": {
   "display_name": "Python 3",
   "language": "python",
   "name": "python3"
  },
  "language_info": {
   "codemirror_mode": {
    "name": "ipython",
    "version": 3
   },
   "file_extension": ".py",
   "mimetype": "text/x-python",
   "name": "python",
   "nbconvert_exporter": "python",
   "pygments_lexer": "ipython3",
   "version": "3.8.8"
  }
 },
 "nbformat": 4,
 "nbformat_minor": 1
}
