{
 "cells": [
  {
   "cell_type": "code",
   "execution_count": null,
   "id": "85860579",
   "metadata": {},
   "outputs": [],
   "source": [
    "#Which are valid/invalid strings\n",
    "1. 'This is Python class' #valid\n",
    "\n",
    "2. \"This is Python class\" #valid\n",
    "\n",
    "3. '''This is Python class'''#valid\n",
    "\n",
    "4. \"\"\"This is Python class\"\"\"#valid\n",
    "\n",
    "5. 'This is Python's class'#invalid\n",
    "\n",
    "6. \"Learnbay provides \"Java\", \"Python\" classes\"#invalid\n",
    "\n",
    "7. \"Learnbay provides 'Java', 'Python' classes\"#valid\n",
    "\n",
    "8. \"This is Python's class\"#valid\n",
    "\n",
    "9. \"\"\"Learnbay provides \"Java\", \"Python\" classes\"\"\"#valid\n",
    "\n",
    "10. '''Learnbay provides \"Java\", \"Python\" classes'''#valid\n",
    "\n",
    "11. '''Learnbay provides\n",
    "\"Java\", \"Python\" \n",
    "classes'''#valid\n",
    "\n",
    "12. 'This is\n",
    "Python \n",
    "class'#invalid"
   ]
  },
  {
   "cell_type": "code",
   "execution_count": 1,
   "id": "de57b33a",
   "metadata": {},
   "outputs": [
    {
     "name": "stdout",
     "output_type": "stream",
     "text": [
      "the length of my_str is 66\n"
     ]
    }
   ],
   "source": [
    "my_str = \"Although that way may not be obvious at first unless you're Dutch.\"\n",
    "my_str1 = \"Although that way may not be obvious at first unless you're Dutch.\"\n",
    "print('the length of my_str is',len(my_str))"
   ]
  },
  {
   "cell_type": "code",
   "execution_count": 2,
   "id": "646c6899",
   "metadata": {},
   "outputs": [
    {
     "name": "stdout",
     "output_type": "stream",
     "text": [
      "id of my_str and my_str1 is same -False\n",
      "Type of my_str is:  str\n"
     ]
    }
   ],
   "source": [
    "my_str = \"Although that way may not be obvious at first unless you're Dutch.\"\n",
    "my_str1 = \"Although that way may not be obvious at first unless you're Dutch.\"\n",
    "\n",
    "if id(my_str)==id(my_str1):\n",
    "  print('id of my_str and my_str1 is same',True)\n",
    "else:\n",
    " print('id of my_str and my_str1 is same','-False')\n",
    "print( 'Type of my_str is:',' str')"
   ]
  },
  {
   "cell_type": "code",
   "execution_count": 3,
   "id": "3f20e16e",
   "metadata": {},
   "outputs": [
    {
     "name": "stdout",
     "output_type": "stream",
     "text": [
      "The first character in my_str is: A\n",
      "The first character in my_str is: A\n",
      "The character at index 10 in my_str is:  \n",
      "The last character in my_str is: h\n",
      "The last character in my_str is: h\n",
      "The character in my_str is: 8\n"
     ]
    }
   ],
   "source": [
    "#indexing\n",
    "my_str = \"Although 8 that way may not be obvious at first unless you're Dutch\"\n",
    "l=len(my_str)\n",
    "print('The first character in my_str is:',my_str[0])  #positive indexing\n",
    "\n",
    "print('The first character in my_str is:',my_str[l-l]) # Using len() function.\n",
    "\n",
    "print('The character at index 10 in my_str is:', my_str[10]) #Using positive indexing\n",
    "\n",
    "print('The last character in my_str is:',my_str[-1]) # Using negative indexing.\n",
    "\n",
    "print('The last character in my_str is:',my_str[l-1]) #Using len() function.\n",
    "\n",
    "print('The character in my_str is:',my_str[9])# Using positive index"
   ]
  },
  {
   "cell_type": "code",
   "execution_count": 4,
   "id": "491e7f0c",
   "metadata": {},
   "outputs": [
    {
     "name": "stdout",
     "output_type": "stream",
     "text": [
      "You have sliced:  Although that way may not be obvious at first unless you're Dutch.\n",
      "You have sliced:  Although that way may not be obvious at first unless you're Dutch.\n",
      "You have sliced:  Although that way may not be obvious at first unless you're Dutch.\n",
      "You have sliced:  Although that way may not be obvious at first unless you're Dutch.\n",
      "You have sliced:  \n",
      "You have sliced:  Atog htwymyntb biu tfrtuls o'eDth\n",
      "You have sliced:  Ahgttam tebo  r lsorDc\n",
      "You have sliced:  .hctuD er'uoy sselnu tsrif ta suoivbo eb ton yam yaw taht hguohtlA\n",
      "You have sliced:  .hctuD er'uoy sselnu tsrif ta suoivbo eb ton yam yaw taht hguohtl\n",
      "You have sliced:  .cu ruysen si asovoe o a a athuhl\n",
      "You have sliced:  .cu ruysen si asovoe o a a athuhl\n",
      "\n",
      "You have sliced:  yaw ta\n",
      "You have sliced:  ess you\n"
     ]
    }
   ],
   "source": [
    "#Slicing\n",
    "my_str = \"Although that way may not be obvious at first unless you're Dutch.\"\n",
    "l=len(my_str)\n",
    "print('You have sliced: ',my_str[::])#output:-Without begin, end and step\n",
    "\n",
    "print('You have sliced: ',my_str[0:len(my_str)])#output:-begin as 0 end using len and without step\n",
    "\n",
    "print('You have sliced: ',my_str[::1])#output:-without begin and end but using step\n",
    "\n",
    "print('You have sliced: ',my_str[0:len(my_str):1])#output:-With begin, end and step\n",
    "\n",
    "print('You have sliced: ',my_str[0:len(my_str):-1])#output:-using begin and end using postive values,step as negative values\n",
    "#Slicing command should print empty string.\n",
    "\n",
    "print('You have sliced: ',my_str[::2])#output:- You have sliced: Atog htwymyntb biu tfrtuls o'eDth\n",
    "\n",
    "print('You have sliced: ',my_str[::3])#output:- You have sliced: Ahgttam tebo  r lsorDc\n",
    "\n",
    "print('You have sliced: ',my_str[::-1])# .hctuD er'uoy sselnu tsrif ta suoivbo eb ton yam yaw taht hguohtlA\n",
    "                                       #Use only step\n",
    "print('You have sliced: ',my_str[l:0:-1])# .hctuD er'uoy sselnu tsrif ta suoivbo eb ton yam yaw taht hguohtlA.Use begin end and step.\n",
    "    \n",
    "print('You have sliced: ',my_str[::-2])#output:- You have sliced: .cu ruysen si asovoe o a a athuhl. use only step\n",
    "\n",
    "print('You have sliced: ',my_str[l:0:-2])#output:- You have sliced: .cu ruysen si asovoe o a a athuhl. use begin, end and step.\n",
    " \n",
    "print(my_str[10:17:-1])#output  \n",
    "    \n",
    "print('You have sliced: ',my_str[16:10:-1])#output:- You have sliced: yaw ta, Using begin, end and step.\n",
    "\n",
    "print('You have sliced: ',my_str[49:56:1])#output:- You have sliced: ess you. Using begin, end and step.    "
   ]
  },
  {
   "cell_type": "code",
   "execution_count": 7,
   "id": "9b34acd2",
   "metadata": {},
   "outputs": [
    {
     "name": "stdout",
     "output_type": "stream",
     "text": [
      "Learnbay Python\n"
     ]
    },
    {
     "ename": "TypeError",
     "evalue": "can only concatenate str (not \"int\") to str",
     "output_type": "error",
     "traceback": [
      "\u001b[1;31m---------------------------------------------------------------------------\u001b[0m",
      "\u001b[1;31mTypeError\u001b[0m                                 Traceback (most recent call last)",
      "\u001b[1;32m<ipython-input-7-5275a1be649d>\u001b[0m in \u001b[0;36m<module>\u001b[1;34m\u001b[0m\n\u001b[0;32m      3\u001b[0m \u001b[0mstr2\u001b[0m \u001b[1;33m=\u001b[0m \u001b[1;34m'Python'\u001b[0m\u001b[1;33m\u001b[0m\u001b[1;33m\u001b[0m\u001b[0m\n\u001b[0;32m      4\u001b[0m \u001b[0mprint\u001b[0m\u001b[1;33m(\u001b[0m\u001b[0mstr1\u001b[0m\u001b[1;33m+\u001b[0m\u001b[1;34m' '\u001b[0m\u001b[1;33m+\u001b[0m\u001b[0mstr2\u001b[0m\u001b[1;33m)\u001b[0m\u001b[1;33m\u001b[0m\u001b[1;33m\u001b[0m\u001b[0m\n\u001b[1;32m----> 5\u001b[1;33m \u001b[0mprint\u001b[0m\u001b[1;33m(\u001b[0m\u001b[0mstr1\u001b[0m\u001b[1;33m+\u001b[0m\u001b[1;36m2\u001b[0m\u001b[1;33m)\u001b[0m \u001b[1;31m#error (not\"int\") to str\u001b[0m\u001b[1;33m\u001b[0m\u001b[1;33m\u001b[0m\u001b[0m\n\u001b[0m\u001b[0;32m      6\u001b[0m \u001b[0mprint\u001b[0m\u001b[1;33m(\u001b[0m\u001b[0mstr1\u001b[0m\u001b[1;33m+\u001b[0m\u001b[1;36m2.0\u001b[0m\u001b[1;33m)\u001b[0m\u001b[1;31m#error (not\"float\") to str\u001b[0m\u001b[1;33m\u001b[0m\u001b[1;33m\u001b[0m\u001b[0m\n",
      "\u001b[1;31mTypeError\u001b[0m: can only concatenate str (not \"int\") to str"
     ]
    }
   ],
   "source": [
    "#Basic operation on string\n",
    "str1 = 'Learnbay'\n",
    "str2 = 'Python'\n",
    "print(str1+' '+str2)\n",
    "print(str1+2) #error (not\"int\") to str\n",
    "print(str1+2.0)#error (not\"float\") to str"
   ]
  },
  {
   "cell_type": "code",
   "execution_count": 8,
   "id": "cc1c8d31",
   "metadata": {},
   "outputs": [
    {
     "name": "stdout",
     "output_type": "stream",
     "text": [
      "LearnbayLearnbayLearnbay\n"
     ]
    },
    {
     "ename": "TypeError",
     "evalue": "can't multiply sequence by non-int of type 'float'",
     "output_type": "error",
     "traceback": [
      "\u001b[1;31m---------------------------------------------------------------------------\u001b[0m",
      "\u001b[1;31mTypeError\u001b[0m                                 Traceback (most recent call last)",
      "\u001b[1;32m<ipython-input-8-409eb5947caa>\u001b[0m in \u001b[0;36m<module>\u001b[1;34m\u001b[0m\n\u001b[0;32m      2\u001b[0m \u001b[1;33m\u001b[0m\u001b[0m\n\u001b[0;32m      3\u001b[0m \u001b[0mprint\u001b[0m\u001b[1;33m(\u001b[0m\u001b[0mstr1\u001b[0m\u001b[1;33m+\u001b[0m\u001b[0mstr1\u001b[0m\u001b[1;33m+\u001b[0m\u001b[0mstr1\u001b[0m\u001b[1;33m)\u001b[0m\u001b[1;33m\u001b[0m\u001b[1;33m\u001b[0m\u001b[0m\n\u001b[1;32m----> 4\u001b[1;33m \u001b[0mprint\u001b[0m\u001b[1;33m(\u001b[0m\u001b[0mstr1\u001b[0m\u001b[1;33m*\u001b[0m\u001b[1;36m2.3\u001b[0m\u001b[1;33m)\u001b[0m\u001b[1;31m#error can't multiply sequence by non-int of type 'float'\u001b[0m\u001b[1;33m\u001b[0m\u001b[1;33m\u001b[0m\u001b[0m\n\u001b[0m\u001b[0;32m      5\u001b[0m \u001b[0mprint\u001b[0m\u001b[1;33m(\u001b[0m\u001b[0mstr1\u001b[0m\u001b[1;33m*\u001b[0m\u001b[0mstr1\u001b[0m\u001b[1;33m)\u001b[0m\u001b[1;31m#error can't multiply sequence by non-int of type 'str'\u001b[0m\u001b[1;33m\u001b[0m\u001b[1;33m\u001b[0m\u001b[0m\n",
      "\u001b[1;31mTypeError\u001b[0m: can't multiply sequence by non-int of type 'float'"
     ]
    }
   ],
   "source": [
    "str1 = 'Learnbay'\n",
    "\n",
    "print(str1+str1+str1)\n",
    "print(str1*2.3)#error can't multiply sequence by non-int of type 'float' \n",
    "print(str1*str1)#error can't multiply sequence by non-int of type 'str'"
   ]
  },
  {
   "cell_type": "code",
   "execution_count": 9,
   "id": "de65743e",
   "metadata": {},
   "outputs": [
    {
     "name": "stdout",
     "output_type": "stream",
     "text": [
      "True\n",
      "False\n",
      "False\n",
      "True\n",
      "True\n",
      "False\n"
     ]
    }
   ],
   "source": [
    "#Find below Output\n",
    "str1 = 'Python'\n",
    "str2 = 'Python'\n",
    "str3 = 'Python$'\n",
    "str4 = 'Python$'\n",
    "\n",
    "print(str1 is str2)#print True by using identity operator between str1 and str2\n",
    "\n",
    "print(str1 is str3)#print False by using identity operator between str1 and str3\n",
    "\n",
    "print(str4 is str3)#print False by using identity operator between str4 and str3\n",
    "\n",
    "print('P' in str1)#Check if P is available in str1 and print True by using membership operator\n",
    "\n",
    "print('$' in str3)# $ is available in str3 and print True by using membership operator\n",
    "\n",
    "print('N' in str3) #Check if N is available in str3 and print False by using membership operator"
   ]
  },
  {
   "cell_type": "code",
   "execution_count": 37,
   "id": "8f786513",
   "metadata": {},
   "outputs": [
    {
     "ename": "TypeError",
     "evalue": "'str' object does not support item assignment",
     "output_type": "error",
     "traceback": [
      "\u001b[1;31m---------------------------------------------------------------------------\u001b[0m",
      "\u001b[1;31mTypeError\u001b[0m                                 Traceback (most recent call last)",
      "\u001b[1;32m<ipython-input-37-b00caa2575fc>\u001b[0m in \u001b[0;36m<module>\u001b[1;34m\u001b[0m\n\u001b[0;32m      1\u001b[0m \u001b[0mstr1\u001b[0m \u001b[1;33m=\u001b[0m \u001b[1;34m'This is Python class'\u001b[0m\u001b[1;33m\u001b[0m\u001b[1;33m\u001b[0m\u001b[0m\n\u001b[0;32m      2\u001b[0m \u001b[1;31m#write the code to replace 'Python' with 'Java' and you should get below e\u001b[0m\u001b[1;33m\u001b[0m\u001b[1;33m\u001b[0m\u001b[1;33m\u001b[0m\u001b[0m\n\u001b[1;32m----> 3\u001b[1;33m \u001b[0mstr1\u001b[0m\u001b[1;33m[\u001b[0m\u001b[1;36m8\u001b[0m\u001b[1;33m:\u001b[0m\u001b[1;36m14\u001b[0m\u001b[1;33m]\u001b[0m\u001b[1;33m=\u001b[0m\u001b[1;34m'Java'\u001b[0m\u001b[1;33m\u001b[0m\u001b[1;33m\u001b[0m\u001b[0m\n\u001b[0m\u001b[0;32m      4\u001b[0m  \u001b[1;31m#TypeError: 'str' object does not support item assignment.\u001b[0m\u001b[1;33m\u001b[0m\u001b[1;33m\u001b[0m\u001b[1;33m\u001b[0m\u001b[0m\n",
      "\u001b[1;31mTypeError\u001b[0m: 'str' object does not support item assignment"
     ]
    }
   ],
   "source": [
    "str1 = 'This is Python class'\n",
    "#write the code to replace 'Python' with 'Java' and you should get below e\n",
    "str1[8:14]='Java'\n",
    " #TypeError: 'str' object does not support item assignment.\n"
   ]
  },
  {
   "cell_type": "code",
   "execution_count": 15,
   "id": "8e111c1b",
   "metadata": {},
   "outputs": [
    {
     "name": "stdout",
     "output_type": "stream",
     "text": [
      "True\n",
      "True\n",
      "False\n",
      "False\n"
     ]
    }
   ],
   "source": [
    "str1 = 'A'\n",
    "str2 = 'A'\n",
    "print(str1 >=str2)#Compare str1 and str2 and print True using comparison operator\n",
    "\n",
    "print(str1==str2)#Compare str1 and str2 and print True using equality operator\n",
    "\n",
    "print(str1!=str2)#Compare str1 and str2 and print False using equality operator\n",
    "\n",
    "print(str1<str2) #Compare str1 and str2 and print False using comparison operator"
   ]
  },
  {
   "cell_type": "code",
   "execution_count": 17,
   "id": "e5182322",
   "metadata": {},
   "outputs": [
    {
     "name": "stdout",
     "output_type": "stream",
     "text": [
      "True\n",
      "True\n",
      "False\n",
      "False\n"
     ]
    }
   ],
   "source": [
    "str1 = 'A'\n",
    "str2 = 'a'\n",
    "print(str2 >=str1.lower()) #Compare str1 and str2 and print True using comparison operator\n",
    "\n",
    "print(str2==str1.lower()) #Compare str1 and str2 and print True using equality operator\n",
    "\n",
    "print(str1==str2) #Compare str1 and str2 and print False using equality operator\n",
    "\n",
    "print(str1>str2) #Compare str1 and str2 and print False using comparison operator"
   ]
  },
  {
   "cell_type": "code",
   "execution_count": 18,
   "id": "c47c9974",
   "metadata": {},
   "outputs": [
    {
     "name": "stdout",
     "output_type": "stream",
     "text": [
      "True\n",
      "False\n"
     ]
    }
   ],
   "source": [
    "str1 = 'A'\n",
    "str2 = '65'\n",
    "#print(str1 >= int(str2))  #Error: TypeError: '>=' not supported between instances of 'str' and 'int'\n",
    "\n",
    "print(str1 != str2)#Compare str1 and str2 and print True using equality operator\n",
    "\n",
    "print(str == str2) #Compare str1 and str2 and print False using equality operator\n"
   ]
  },
  {
   "cell_type": "code",
   "execution_count": 19,
   "id": "6c113f7e",
   "metadata": {},
   "outputs": [
    {
     "name": "stdout",
     "output_type": "stream",
     "text": [
      "True\n",
      "True\n",
      "False\n",
      "False\n"
     ]
    }
   ],
   "source": [
    "str1 = 'Python'\n",
    "str2 = 'Python'\n",
    "print(str1<= str2) #Compare str1 and str2 and print True using comparison operator\n",
    "\n",
    "print(str1 == str2)#Compare str1 and str2 and print True using equality operator\n",
    "\n",
    "print(str1 != str2)#Compare str1 and str2 and print False using equality operator\n",
    "\n",
    "print(str1 > str2) #Compare str1 and str2 and print False using comparison operator"
   ]
  },
  {
   "cell_type": "code",
   "execution_count": 20,
   "id": "1133ad0c",
   "metadata": {},
   "outputs": [
    {
     "name": "stdout",
     "output_type": "stream",
     "text": [
      "True\n",
      "True\n",
      "False\n",
      "False\n"
     ]
    }
   ],
   "source": [
    "str1 = 'Python'\n",
    "str2 = 'python'\n",
    "print(str1<= str2)#Compare str1 and str2 and print True using comparison operator\n",
    "\n",
    "print(str1 != str2)#Compare str1 and str2 and print True using equality operator\n",
    "\n",
    "print(str1 == str2) #Compare str1 and str2 and print False using equality operator\n",
    "\n",
    "print(str1>str2) #Compare str1 and str2 and print False using comparison operator"
   ]
  },
  {
   "cell_type": "code",
   "execution_count": 21,
   "id": "f3d90650",
   "metadata": {},
   "outputs": [
    {
     "name": "stdout",
     "output_type": "stream",
     "text": [
      "\n",
      "Python\n",
      "False\n",
      "True\n"
     ]
    }
   ],
   "source": [
    "#logical operators\n",
    "a = 'Python'\n",
    "b = ''\n",
    "\n",
    "print(a and b) #retursns b\n",
    "print(a or b)\n",
    "print(not(a))\n",
    "print(not(b))"
   ]
  },
  {
   "cell_type": "code",
   "execution_count": 22,
   "id": "27db494d",
   "metadata": {},
   "outputs": [
    {
     "name": "stdout",
     "output_type": "stream",
     "text": [
      "\n",
      "\n",
      "True\n",
      "True\n"
     ]
    }
   ],
   "source": [
    "a = ''\n",
    "b = ''\n",
    "\n",
    "print(a and b)\n",
    "print(a or b)\n",
    "print(not(a))\n",
    "print(not(b))"
   ]
  },
  {
   "cell_type": "code",
   "execution_count": 23,
   "id": "9038c9bc",
   "metadata": {},
   "outputs": [
    {
     "name": "stdout",
     "output_type": "stream",
     "text": [
      "learnbay\n",
      "Python\n",
      "False\n",
      "False\n"
     ]
    }
   ],
   "source": [
    "a = 'Python'\n",
    "b = 'learnbay'\n",
    "\n",
    "print(a and b)\n",
    "print(a or b)\n",
    "print(not(a))\n",
    "print(not(b))"
   ]
  },
  {
   "cell_type": "code",
   "execution_count": 38,
   "id": "c4894db7",
   "metadata": {},
   "outputs": [
    {
     "name": "stdout",
     "output_type": "stream",
     "text": [
      "7\n"
     ]
    }
   ],
   "source": [
    "my_str=\"Although 8 that way may not be obvious at first unless you're Dutch\"\n",
    "\n",
    "     #Write the code to get the total count of 't' in above string. Use find() and index() method\n",
    "k=0\n",
    "ind=0\n",
    "while True:\n",
    "    ind=my_str.find(\"t\",ind+1)\n",
    "    if ind==-1:break\n",
    "    else:k+=1\n",
    "print(k)"
   ]
  },
  {
   "cell_type": "code",
   "execution_count": 35,
   "id": "8eb5b3e4",
   "metadata": {},
   "outputs": [
    {
     "name": "stdout",
     "output_type": "stream",
     "text": [
      "9\n",
      "-1\n"
     ]
    },
    {
     "ename": "ValueError",
     "evalue": "substring not found",
     "output_type": "error",
     "traceback": [
      "\u001b[1;31m---------------------------------------------------------------------------\u001b[0m",
      "\u001b[1;31mValueError\u001b[0m                                Traceback (most recent call last)",
      "\u001b[1;32m<ipython-input-35-6d2043b8656e>\u001b[0m in \u001b[0;36m<module>\u001b[1;34m\u001b[0m\n\u001b[0;32m      3\u001b[0m \u001b[0mprint\u001b[0m\u001b[1;33m(\u001b[0m\u001b[0mp\u001b[0m\u001b[1;33m)\u001b[0m\u001b[1;33m\u001b[0m\u001b[1;33m\u001b[0m\u001b[0m\n\u001b[0;32m      4\u001b[0m \u001b[0mprint\u001b[0m\u001b[1;33m(\u001b[0m\u001b[0mmy_str\u001b[0m\u001b[1;33m.\u001b[0m\u001b[0mfind\u001b[0m\u001b[1;33m(\u001b[0m\u001b[1;34m'the'\u001b[0m\u001b[1;33m)\u001b[0m\u001b[1;33m)\u001b[0m\u001b[1;33m\u001b[0m\u001b[1;33m\u001b[0m\u001b[0m\n\u001b[1;32m----> 5\u001b[1;33m \u001b[0mprint\u001b[0m\u001b[1;33m(\u001b[0m\u001b[0mmy_str\u001b[0m\u001b[1;33m.\u001b[0m\u001b[0mindex\u001b[0m\u001b[1;33m(\u001b[0m\u001b[1;34m'the'\u001b[0m\u001b[1;33m)\u001b[0m\u001b[1;33m)\u001b[0m\u001b[1;33m\u001b[0m\u001b[1;33m\u001b[0m\u001b[0m\n\u001b[0m\u001b[0;32m      6\u001b[0m \u001b[0mprint\u001b[0m\u001b[1;33m(\u001b[0m\u001b[0mmy_str\u001b[0m\u001b[1;33m.\u001b[0m\u001b[0mfind\u001b[0m\u001b[1;33m(\u001b[0m\u001b[1;34m't'\u001b[0m\u001b[1;33m,\u001b[0m \u001b[1;36m9\u001b[0m\u001b[1;33m,\u001b[0m \u001b[1;36m15\u001b[0m\u001b[1;33m)\u001b[0m\u001b[1;33m)\u001b[0m\u001b[1;33m\u001b[0m\u001b[1;33m\u001b[0m\u001b[0m\n\u001b[0;32m      7\u001b[0m \u001b[0mprint\u001b[0m\u001b[1;33m(\u001b[0m\u001b[0mmy_str\u001b[0m\u001b[1;33m.\u001b[0m\u001b[0mrfind\u001b[0m\u001b[1;33m(\u001b[0m\u001b[1;34m'u'\u001b[0m\u001b[1;33m)\u001b[0m\u001b[1;33m)\u001b[0m\u001b[1;33m\u001b[0m\u001b[1;33m\u001b[0m\u001b[0m\n",
      "\u001b[1;31mValueError\u001b[0m: substring not found"
     ]
    }
   ],
   "source": [
    "my_str=\"Although 8 that way may not be obvious at first unless you're Dutch\"\n",
    "p=my_str.find(\"8\")\n",
    "print(p)\n",
    "print(my_str.find('the'))\n",
    "print(my_str.index('the'))"
   ]
  },
  {
   "cell_type": "code",
   "execution_count": 36,
   "id": "4479fad6",
   "metadata": {},
   "outputs": [
    {
     "name": "stdout",
     "output_type": "stream",
     "text": [
      "11\n",
      "63\n",
      "63\n"
     ]
    }
   ],
   "source": [
    "print(my_str.find('t', 9, 15))\n",
    "print(my_str.rfind('u'))\n",
    "print(my_str.rindex('u'))"
   ]
  },
  {
   "cell_type": "code",
   "execution_count": 39,
   "id": "9595dcbc",
   "metadata": {},
   "outputs": [
    {
     "name": "stdout",
     "output_type": "stream",
     "text": [
      "True\n",
      "False\n",
      "False\n",
      "True\n"
     ]
    }
   ],
   "source": [
    "s = chr(65) + chr(97)\n",
    "print(s.isprintable())\n",
    "\n",
    "s = chr(27) + chr(97)\n",
    "print(s.isprintable())\n",
    "\n",
    "s = '\\n'\n",
    "print(s.isprintable())\n",
    "\n",
    "s = ''\n",
    "print(s.isprintable())"
   ]
  },
  {
   "cell_type": "code",
   "execution_count": null,
   "id": "fa86adaf",
   "metadata": {},
   "outputs": [],
   "source": []
  }
 ],
 "metadata": {
  "kernelspec": {
   "display_name": "Python 3",
   "language": "python",
   "name": "python3"
  },
  "language_info": {
   "codemirror_mode": {
    "name": "ipython",
    "version": 3
   },
   "file_extension": ".py",
   "mimetype": "text/x-python",
   "name": "python",
   "nbconvert_exporter": "python",
   "pygments_lexer": "ipython3",
   "version": "3.8.8"
  }
 },
 "nbformat": 4,
 "nbformat_minor": 5
}
